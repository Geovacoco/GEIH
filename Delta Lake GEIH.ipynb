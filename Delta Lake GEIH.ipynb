{
 "cells": [
  {
   "cell_type": "markdown",
   "metadata": {
    "application/vnd.databricks.v1+cell": {
     "cellMetadata": {},
     "inputWidgets": {},
     "nuid": "a462cecd-fe36-48a4-a701-0802f2f133f3",
     "showTitle": false,
     "tableResultSettingsMap": {},
     "title": ""
    }
   },
   "source": [
    "- !pip install delta-spark\n",
    "- from delta.tables import DeltaTable"
   ]
  },
  {
   "cell_type": "code",
   "execution_count": 0,
   "metadata": {
    "application/vnd.databricks.v1+cell": {
     "cellMetadata": {
      "byteLimit": 2048000,
      "rowLimit": 10000
     },
     "inputWidgets": {},
     "nuid": "82bf94fe-d173-4a70-890b-cf368f387218",
     "showTitle": true,
     "tableResultSettingsMap": {},
     "title": "Packages"
    }
   },
   "outputs": [],
   "source": [
    "import pandas as pd\n",
    "import os"
   ]
  },
  {
   "cell_type": "code",
   "execution_count": 0,
   "metadata": {
    "application/vnd.databricks.v1+cell": {
     "cellMetadata": {
      "byteLimit": 2048000,
      "rowLimit": 10000
     },
     "inputWidgets": {},
     "nuid": "cdbf5b67-bfad-40c8-8379-541e635c573b",
     "showTitle": true,
     "tableResultSettingsMap": {},
     "title": "Voulmes"
    }
   },
   "outputs": [],
   "source": [
    "VOLUME_STORAGE = '/Volumes/geih/raw_data/parquet/'"
   ]
  },
  {
   "cell_type": "code",
   "execution_count": 0,
   "metadata": {
    "application/vnd.databricks.v1+cell": {
     "cellMetadata": {
      "byteLimit": 2048000,
      "rowLimit": 10000
     },
     "inputWidgets": {},
     "nuid": "e07589db-6870-4095-b6f3-00a1fcc8451c",
     "showTitle": true,
     "tableResultSettingsMap": {},
     "title": "API"
    }
   },
   "outputs": [],
   "source": [
    "class ErrorLake(Exception):\n",
    "    pass\n",
    "\n",
    "class LakeReader:\n",
    "    def __init__(self):\n",
    "        self._filter  = None\n",
    "        self._format  = None\n",
    "        self._colums  = None\n",
    "        self._formats = ['geih', 'parquet']\n",
    "\n",
    "    def select(self, *cols):\n",
    "        if cols:\n",
    "            self._colums = cols\n",
    "        return self\n",
    "\n",
    "    def format(self, name: str):\n",
    "        if name.lower() not in self._formats: \n",
    "            raise ErrorLake(f'[ERROR.READ.FORMAT]: Formato `{name}` no soportado')\n",
    "        self._format = name\n",
    "        return self\n",
    "\n",
    "    def filter(self, **kvargs): \n",
    "        if kvargs:\n",
    "            self._filter = kvargs\n",
    "        return self\n",
    "\n",
    "    def load(self, path: str):\n",
    "        if not path.startswith('/Volumes/'):\n",
    "            raise ErrorLake(f'[ERROR.READ.PATH]: Lake solo soporta `VOLUMES` storage por ahora')\n",
    "        #TODO(): Realizar `load` dependiendo del format.\n",
    "\n",
    "        return self\n",
    "    \n",
    "    def __repr__(self):\n",
    "        return 'LakeReader()'\n",
    "\n",
    "class LakeWriter:\n",
    "    def __repr__(self):\n",
    "        return 'LakeWriter()'\n",
    "    \n",
    "class DeltaLake:\n",
    "    \"\"\" Wrapper class para el manejo de lagos de datos en delta lake \"\"\"\n",
    "    @property\n",
    "    def read(self):  return LakeReader()\n",
    "    @property\n",
    "    def write(self): return LakeWriter()"
   ]
  },
  {
   "cell_type": "code",
   "execution_count": 0,
   "metadata": {
    "application/vnd.databricks.v1+cell": {
     "cellMetadata": {
      "byteLimit": 2048000,
      "rowLimit": 10000
     },
     "inputWidgets": {},
     "nuid": "9a041c74-72e6-4eef-9b64-b173f9c28830",
     "showTitle": true,
     "tableResultSettingsMap": {},
     "title": "Delta Lake GEIH"
    }
   },
   "outputs": [],
   "source": [
    "lake = DeltaLake()\n",
    "\n",
    "geih = (\n",
    "    lake\n",
    "        .read\n",
    "        .load(VOLUME_STORAGE)\n",
    ")"
   ]
  },
  {
   "cell_type": "code",
   "execution_count": 0,
   "metadata": {
    "application/vnd.databricks.v1+cell": {
     "cellMetadata": {
      "byteLimit": 2048000,
      "rowLimit": 10000
     },
     "inputWidgets": {},
     "nuid": "8892d5c3-0b7f-4766-bb5d-f619a81ad03a",
     "showTitle": false,
     "tableResultSettingsMap": {},
     "title": ""
    }
   },
   "outputs": [],
   "source": [
    "geih"
   ]
  },
  {
   "cell_type": "code",
   "execution_count": 0,
   "metadata": {
    "application/vnd.databricks.v1+cell": {
     "cellMetadata": {
      "byteLimit": 2048000,
      "rowLimit": 10000
     },
     "inputWidgets": {},
     "nuid": "ef35f70a-3a97-499b-9c92-3644d1094b93",
     "showTitle": false,
     "tableResultSettingsMap": {},
     "title": ""
    }
   },
   "outputs": [],
   "source": [
    "Volumes = '/Volumes/geih/raw_data/parquet/'\n",
    "os.listdir(Volumes)[:12]\n",
    "# df = pd.read_parquet(Volumes)"
   ]
  },
  {
   "cell_type": "code",
   "execution_count": 0,
   "metadata": {
    "application/vnd.databricks.v1+cell": {
     "cellMetadata": {
      "byteLimit": 2048000,
      "rowLimit": 10000
     },
     "inputWidgets": {},
     "nuid": "f19f3e2c-8310-4e69-a64e-890ea0244e7f",
     "showTitle": false,
     "tableResultSettingsMap": {},
     "title": ""
    }
   },
   "outputs": [],
   "source": [
    "df.display()"
   ]
  },
  {
   "cell_type": "code",
   "execution_count": 0,
   "metadata": {
    "application/vnd.databricks.v1+cell": {
     "cellMetadata": {
      "byteLimit": 2048000,
      "rowLimit": 10000
     },
     "inputWidgets": {},
     "nuid": "ed6f9d2c-6f72-47db-9666-838a11e7bb9d",
     "showTitle": true,
     "tableResultSettingsMap": {},
     "title": "Description"
    }
   },
   "outputs": [],
   "source": [
    "%sql\n",
    "-- ===================================================================\n",
    "-- The source data base are finding in the `GEIH.Default` schema.\n",
    "-- To create each Table we read the lake tables and filters it\n",
    "-- by year and month.\n",
    "-- =================================================================="
   ]
  },
  {
   "cell_type": "code",
   "execution_count": 0,
   "metadata": {
    "application/vnd.databricks.v1+cell": {
     "cellMetadata": {
      "byteLimit": 2048000,
      "rowLimit": 10000
     },
     "inputWidgets": {},
     "nuid": "8ee38f13-a439-4749-b11b-5fa8c5e721e9",
     "showTitle": true,
     "tableResultSettingsMap": {},
     "title": "Files"
    }
   },
   "outputs": [],
   "source": [
    "def get_periodo_from_parquets(volume : str) -> set:\n",
    "    \"\"\" Retorna el listado de periodos i.e 202301, de los archivos parquet en el `path` \"\"\"\n",
    "    files = dbutils.fs.ls(volume)\n",
    "    files = [f.name.split('.parquet')[0][-6 : ] for f in files if f.endswith('.parquet')] #i.e 202301\n",
    "    return set(files)\n",
    "\n",
    "def get_periodo_from_stream(schema : str) -> set:\n",
    "    \"\"\" Listado de periodos i.e 202301, del stream en el `schema` \"\"\"\n",
    "    rows = spark.read.table(schema).select('time').collect()\n",
    "    periodos = [str(row.time) for row in rows]\n",
    "    return set(periodos)\n",
    "\n",
    "def get_dlt_table(dlt_source : str):\n",
    "    \"\"\" Lee una dlt table desde un source `dlt` \"\"\"\n",
    "    return spark.read.table(dlt_source)\n",
    "   "
   ]
  },
  {
   "cell_type": "code",
   "execution_count": 0,
   "metadata": {
    "application/vnd.databricks.v1+cell": {
     "cellMetadata": {
      "byteLimit": 2048000,
      "rowLimit": 10000
     },
     "inputWidgets": {},
     "nuid": "3507ffba-1e1e-4b87-952a-3afcea251360",
     "showTitle": false,
     "tableResultSettingsMap": {},
     "title": ""
    }
   },
   "outputs": [],
   "source": [
    "df = spark.read.table('Geih.Default.carac')"
   ]
  },
  {
   "cell_type": "code",
   "execution_count": 0,
   "metadata": {
    "application/vnd.databricks.v1+cell": {
     "cellMetadata": {
      "byteLimit": 2048000,
      "rowLimit": 10000
     },
     "inputWidgets": {},
     "nuid": "28a6b545-8a09-4e8c-82eb-c949f6cbc68e",
     "showTitle": false,
     "tableResultSettingsMap": {},
     "title": ""
    }
   },
   "outputs": [],
   "source": [
    "part_col = 'MES'\n",
    "spark \\\n",
    "    .table('Geih.Default.carac') \\\n",
    "    .write \\\n",
    "    .format('delta') \\\n",
    "    .partitionBy(part_col) \\\n",
    "    .mode('overwrite') \\\n",
    "    .option(\"overwriteSchema\", \"true\") \\\n",
    "    .saveAsTable('Geih.Default.carac_dt')"
   ]
  },
  {
   "cell_type": "code",
   "execution_count": 0,
   "metadata": {
    "application/vnd.databricks.v1+cell": {
     "cellMetadata": {
      "byteLimit": 2048000,
      "rowLimit": 10000
     },
     "inputWidgets": {},
     "nuid": "08998012-376a-41c1-a095-327339552bb3",
     "showTitle": false,
     "tableResultSettingsMap": {},
     "title": ""
    }
   },
   "outputs": [],
   "source": [
    "dt = spark.read.table('Geih.Default.carac_dt').where(f\"{part_col} = '01'\")"
   ]
  },
  {
   "cell_type": "code",
   "execution_count": 0,
   "metadata": {
    "application/vnd.databricks.v1+cell": {
     "cellMetadata": {
      "byteLimit": 2048000,
      "rowLimit": 10000
     },
     "inputWidgets": {},
     "nuid": "684525af-1178-4bd5-a184-58c3f2706092",
     "showTitle": false,
     "tableResultSettingsMap": {},
     "title": ""
    }
   },
   "outputs": [],
   "source": [
    "dt.groupBy(part_col).count().show()"
   ]
  },
  {
   "cell_type": "code",
   "execution_count": 0,
   "metadata": {
    "application/vnd.databricks.v1+cell": {
     "cellMetadata": {
      "byteLimit": 2048000,
      "rowLimit": 10000
     },
     "inputWidgets": {},
     "nuid": "e8ccfc17-aadb-4390-a21c-c6e5b49ed39c",
     "showTitle": false,
     "tableResultSettingsMap": {},
     "title": ""
    }
   },
   "outputs": [],
   "source": [
    "display(spark.read.format(\"delta\").load(\"/Volumes/geih/default/_delta_log\"))"
   ]
  },
  {
   "cell_type": "code",
   "execution_count": 0,
   "metadata": {
    "application/vnd.databricks.v1+cell": {
     "cellMetadata": {
      "byteLimit": 2048000,
      "implicitDf": true,
      "rowLimit": 10000
     },
     "inputWidgets": {},
     "nuid": "55a3ac86-b6f7-4157-98f6-3a87ee757888",
     "showTitle": false,
     "tableResultSettingsMap": {},
     "title": ""
    }
   },
   "outputs": [],
   "source": [
    "%sql\n",
    "Describe Detail GEIH.Default.carac_dt"
   ]
  },
  {
   "cell_type": "code",
   "execution_count": 0,
   "metadata": {
    "application/vnd.databricks.v1+cell": {
     "cellMetadata": {
      "byteLimit": 2048000,
      "implicitDf": true,
      "rowLimit": 10000
     },
     "inputWidgets": {},
     "nuid": "afd60ca7-bdf6-4116-8fa3-86b307b28c92",
     "showTitle": true,
     "tableResultSettingsMap": {},
     "title": "Current Tables"
    }
   },
   "outputs": [],
   "source": [
    "target = get_periodo_from_stream('Geih.Default.periodos')\n",
    "source = get_periodo_from_parquets('/Volumes/geih/bronze/parquet/')\n",
    "part_per = list(target - source)\n",
    "part_col = 'time'\n",
    "print('Particiones:', part_per, '&', part_col)"
   ]
  },
  {
   "cell_type": "code",
   "execution_count": 0,
   "metadata": {
    "application/vnd.databricks.v1+cell": {
     "cellMetadata": {
      "byteLimit": 2048000,
      "rowLimit": 10000
     },
     "inputWidgets": {},
     "nuid": "67a6f4fd-6248-471a-a1c0-8067854a3691",
     "showTitle": false,
     "tableResultSettingsMap": {},
     "title": ""
    }
   },
   "outputs": [],
   "source": [
    "from pyspark.sql.functions import expr, col\n",
    "\n",
    "source_path = 'geih.default.carac'\n",
    "target_path = '/Volumes/geih/bronze/parquet/'\n",
    "\n",
    "source_table = spark.read.table(source_path)\n",
    "# source_table = source_table.filter(col('time').isin(partitions[:2]))"
   ]
  },
  {
   "cell_type": "code",
   "execution_count": 0,
   "metadata": {
    "application/vnd.databricks.v1+cell": {
     "cellMetadata": {
      "byteLimit": 2048000,
      "rowLimit": 10000
     },
     "inputWidgets": {},
     "nuid": "11bed0a5-9c32-4aff-9615-c00c8069751b",
     "showTitle": true,
     "tableResultSettingsMap": {},
     "title": "Current files"
    }
   },
   "outputs": [],
   "source": [
    "dbutils.fs.ls('/Volumes/geih/bronze/parquet/')"
   ]
  },
  {
   "cell_type": "code",
   "execution_count": 0,
   "metadata": {
    "application/vnd.databricks.v1+cell": {
     "cellMetadata": {
      "byteLimit": 2048000,
      "implicitDf": true,
      "rowLimit": 10000
     },
     "inputWidgets": {},
     "nuid": "57ea2ca8-9461-4d59-8056-637e017e6e1f",
     "showTitle": false,
     "tableResultSettingsMap": {},
     "title": ""
    }
   },
   "outputs": [],
   "source": [
    "%sql\n",
    "List '/Volumes/geih/bronze/parquet'"
   ]
  }
 ],
 "metadata": {
  "application/vnd.databricks.v1+notebook": {
   "computePreferences": {
    "hardware": {
     "accelerator": null,
     "gpuPoolId": null,
     "memory": null
    }
   },
   "dashboards": [],
   "environmentMetadata": {
    "base_environment": "",
    "environment_version": "3"
   },
   "inputWidgetPreferences": null,
   "language": "python",
   "notebookMetadata": {
    "mostRecentlyExecutedCommandWithImplicitDF": {
     "commandId": 8755005855744716,
     "dataframes": [
      "_sqldf"
     ]
    },
    "pythonIndentUnit": 4
   },
   "notebookName": "Delta Lake GEIH",
   "widgets": {}
  },
  "language_info": {
   "name": "python"
  }
 },
 "nbformat": 4,
 "nbformat_minor": 0
}
